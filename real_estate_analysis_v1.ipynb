{
 "cells": [
  {
   "cell_type": "code",
   "execution_count": 2,
   "metadata": {},
   "outputs": [],
   "source": [
    "import pandas as pd\n",
    "import seaborn as sns\n",
    "import numpy as np"
   ]
  },
  {
   "cell_type": "code",
   "execution_count": 3,
   "metadata": {},
   "outputs": [],
   "source": [
    "%matplotlib inline"
   ]
  },
  {
   "cell_type": "code",
   "execution_count": 4,
   "metadata": {},
   "outputs": [],
   "source": [
    "db = pd.read_json(r'listings\\merged_listings.json')"
   ]
  },
  {
   "cell_type": "code",
   "execution_count": 5,
   "metadata": {},
   "outputs": [],
   "source": [
    "db.fillna(value = np.nan, inplace=True)"
   ]
  },
  {
   "cell_type": "code",
   "execution_count": 6,
   "metadata": {},
   "outputs": [],
   "source": [
    "tdb = db.T\n",
    "tdb['List Price'] = tdb['List Price'].str.replace(',','').str.strip('$').astype('float')"
   ]
  },
  {
   "cell_type": "code",
   "execution_count": 7,
   "metadata": {},
   "outputs": [
    {
     "data": {
      "text/plain": [
       "116 HOMESTEAD AV    2640.0\n",
       "131 JEFFERSON ST    1748.0\n",
       "198 JAY ST          2280.0\n",
       "2 ROOSEVELT ST      1667.0\n",
       "211 QUAIL ST        2378.0\n",
       "35 GLENWOOD ST       912.0\n",
       "35 S MAIN AV        2454.0\n",
       "37 SYCAMORE ST      1812.0\n",
       "384 MORRIS ST       2352.0\n",
       "430 SECOND AV       2528.0\n",
       "455 MYRTLE AV       2040.0\n",
       "466 ONTARIO ST      1200.0\n",
       "Name: Above Ground SQFT, dtype: float64"
      ]
     },
     "execution_count": 7,
     "metadata": {},
     "output_type": "execute_result"
    }
   ],
   "source": [
    "tdb['Above Ground SQFT'].astype('float')\n",
    "#tdb['List Price'].str.strip(['$',','])"
   ]
  },
  {
   "cell_type": "code",
   "execution_count": 27,
   "metadata": {},
   "outputs": [
    {
     "data": {
      "text/plain": [
       "[u'#Off Street Parking Spc',\n",
       " u'ACCESSIBILITY FEATURES',\n",
       " u'ATTIC',\n",
       " u'Above Ground SQFT',\n",
       " u'Acres',\n",
       " u'Address',\n",
       " u'Age (NOT year built)',\n",
       " u'BASEMENT',\n",
       " u'CONDITION',\n",
       " u'COOLING TYPE',\n",
       " u'City/Town (Mail Address)',\n",
       " u'City/Town (taxing entity)',\n",
       " u'Class',\n",
       " u'County',\n",
       " u'Directions 1',\n",
       " u'EXTERIOR',\n",
       " u'GARAGE DESCRIPTION',\n",
       " u'HEAT FUEL',\n",
       " u'HEAT SYSTEM',\n",
       " u'Handicap Access',\n",
       " u'Insurance Expense',\n",
       " u'LAUNDRY',\n",
       " u'LOT DESCRIPTION',\n",
       " u'List Price',\n",
       " u'Locale',\n",
       " u'MLS #',\n",
       " u'Model',\n",
       " u'OFFERING TERMS',\n",
       " u'Off Street Parking',\n",
       " u'PHOTO INSTRUCTIONS',\n",
       " u'PROPERTY DESCRIPTION',\n",
       " u'Projected School',\n",
       " u'Public Remarks',\n",
       " u'ROOF',\n",
       " u'Rental Income',\n",
       " u'SEPARATE UTILITIES',\n",
       " u'SEWER',\n",
       " u'SHOWING INSTRUCTIONS',\n",
       " u'SPECIAL MARKET CONDITIONS',\n",
       " u'Sale/Rent',\n",
       " u'School District Code',\n",
       " u'School Taxes',\n",
       " u'School Taxes Description',\n",
       " u'Sewer Expense',\n",
       " u'State',\n",
       " u'Status',\n",
       " u'Total Bedrooms Unit 1',\n",
       " u'Total Bedrooms Unit 2',\n",
       " u'Total Full Baths Unit 1',\n",
       " u'Total Full Baths Unit 2',\n",
       " u'Total Partial Bths Unit 1',\n",
       " u'Total Partial Bths Unit 2',\n",
       " u'Total Taxes',\n",
       " u'Type',\n",
       " u'UNIT #1 AMENITIES',\n",
       " u'UNIT #1 APPLIANCES',\n",
       " u'UNIT #1 DINING ROOM TYPE',\n",
       " u'UNIT #1 OCCUPIED',\n",
       " u'UNIT #2 AMENITIES',\n",
       " u'UNIT #2 APPLIANCES',\n",
       " u'UNIT #2 DINING ROOM TYPE',\n",
       " u'UNIT #2 OCCUPIED',\n",
       " u'Unit #1 Kitchen',\n",
       " u'Unit #1 Rent',\n",
       " u'Unit #2 Kitchen',\n",
       " u'Unit #2 Rent',\n",
       " u'Unit1 Bedrooms in Bsmt',\n",
       " u'Unit1 Bedrooms on 1st Flr',\n",
       " u'Unit1 Bedrooms on 2nd Flr',\n",
       " u'Unit1 Bedrooms on 3rd Flr',\n",
       " u'Unit1 Din Rms on 1st Flr',\n",
       " u'Unit1 Full Baths in Bsmt',\n",
       " u'Unit1 Full Bths on1st Flr',\n",
       " u'Unit1 Full Bths on2nd Flr',\n",
       " u'Unit1 Full Bths on3rd Flr',\n",
       " u'Unit1 Kitchens on 1st Flr',\n",
       " u'Unit1 Liv Rms on 1st Flr',\n",
       " u'Unit1 Oth Rms on 1st Flr',\n",
       " u'Unit1 Other Rooms in Bsmt',\n",
       " u'Unit1 Partial Bth 1st Flr',\n",
       " u'Unit1 Partial Bth 2nd Flr',\n",
       " u'Unit1 Partial Bth 3rd Flr',\n",
       " u'Unit1 Partial Bth in Bsmt',\n",
       " u'Unit1 Possession',\n",
       " u'Unit1 Rent Description',\n",
       " u'Unit2 Bedrooms in Bsmt',\n",
       " u'Unit2 Bedrooms on 1st Flr',\n",
       " u'Unit2 Bedrooms on 2nd Flr',\n",
       " u'Unit2 Bedrooms on 3rd Flr',\n",
       " u'Unit2 Din Rms in Basement',\n",
       " u'Unit2 Din Rms on 1st Flr',\n",
       " u'Unit2 Din Rms on 2nd Flr',\n",
       " u'Unit2 Full Baths in Bsmt',\n",
       " u'Unit2 Full Bths on1st Flr',\n",
       " u'Unit2 Full Bths on2nd Flr',\n",
       " u'Unit2 Full Bths on3rd Flr',\n",
       " u'Unit2 Kitchens in Bsmt',\n",
       " u'Unit2 Kitchens on 1st Flr',\n",
       " u'Unit2 Kitchens on 2nd Flr',\n",
       " u'Unit2 Liv Rms in Basement',\n",
       " u'Unit2 Liv Rms on 1st Flr',\n",
       " u'Unit2 Liv Rms on 2nd Flr',\n",
       " u'Unit2 Other Rm on 2nd Flr',\n",
       " u'Unit2 Partial Bth 1st Flr',\n",
       " u'Unit2 Partial Bth 2nd Flr',\n",
       " u'Unit2 Partial Bth 3rd Flr',\n",
       " u'Unit2 Partial Bths Bsmt',\n",
       " u'Unit2 Possession',\n",
       " u'Unit2 Rent Description',\n",
       " u'WATER',\n",
       " u'Water Expense',\n",
       " u'Zip']"
      ]
     },
     "execution_count": 27,
     "metadata": {},
     "output_type": "execute_result"
    }
   ],
   "source": [
    "[item for item in tdb.columns]"
   ]
  },
  {
   "cell_type": "code",
   "execution_count": 36,
   "metadata": {},
   "outputs": [
    {
     "data": {
      "image/png": "[encoded data removed]",
      "text/plain": [
       "<Figure size 432x288 with 1 Axes>"
      ]
     },
     "metadata": {},
     "output_type": "display_data"
    }
   ],
   "source": [
    "lp1 = sns.lineplot(x = 'Above Ground SQFT', y = 'List Price', data=tdb, hue = 'LAUNDRY')"
   ]
  },
  {
   "cell_type": "code",
   "execution_count": 35,
   "metadata": {
    "scrolled": true
   },
   "outputs": [
    {
     "data": {
      "text/plain": [
       "211 QUAIL ST    174900.0\n",
       "Name: List Price, dtype: float64"
      ]
     },
     "execution_count": 35,
     "metadata": {},
     "output_type": "execute_result"
    }
   ],
   "source": [
    "tdb[tdb['LAUNDRY']==\"Bathroom\"]['List Price']"
   ]
  },
  {
   "cell_type": "code",
   "execution_count": null,
   "metadata": {},
   "outputs": [],
   "source": [
    "sns.barplot(x='')"
   ]
  },
  {
   "cell_type": "code",
   "execution_count": 43,
   "metadata": {},
   "outputs": [],
   "source": [
    "fig = lp1.get_figure()"
   ]
  },
  {
   "cell_type": "code",
   "execution_count": 45,
   "metadata": {},
   "outputs": [],
   "source": [
    "fig.savefig('line_plot.png')"
   ]
  },
  {
   "cell_type": "code",
   "execution_count": null,
   "metadata": {},
   "outputs": [],
   "source": []
  }
 ],
 "metadata": {
  "kernelspec": {
   "display_name": "Python 2",
   "language": "python",
   "name": "python2"
  },
  "language_info": {
   "codemirror_mode": {
    "name": "ipython",
    "version": 2
   },
   "file_extension": ".py",
   "mimetype": "text/x-python",
   "name": "python",
   "nbconvert_exporter": "python",
   "pygments_lexer": "ipython2",
   "version": "2.7.14"
  }
 },
 "nbformat": 4,
 "nbformat_minor": 2
}
