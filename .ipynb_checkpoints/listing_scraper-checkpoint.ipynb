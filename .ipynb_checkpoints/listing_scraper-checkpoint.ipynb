{
 "cells": [
  {
   "cell_type": "code",
   "execution_count": 2,
   "metadata": {},
   "outputs": [],
   "source": [
    "from bs4 import BeautifulSoup\n",
    "import re\n",
    "import urllib2\n",
    "import lxml\n",
    "import pandas as pd\n",
    "import os\n",
    "from mapstest import get_latlong\n"
   ]
  },
  {
   "cell_type": "code",
   "execution_count": 39,
   "metadata": {},
   "outputs": [],
   "source": [
    "def scrape_listing(url):\n",
    "\n",
    "#take url and spit out a df with labels and values from the listing\n",
    "    page = open(url)\n",
    "    soup = BeautifulSoup(page.read(), \"html.parser\")\n",
    "    \n",
    "    #print soup.prettify()[0:1000]\n",
    "    #find tags\n",
    "    listing_labels = soup.findAll('strong', \n",
    "        { \"class\" : \"col-lg-6 col-sm-6 col-md-6 col-xs-6\"})\n",
    "    listing_values = soup.findAll('span', \n",
    "        { \"class\" : \"col-lg-6 col-sm-6 col-md-6 col-xs-6\"})\n",
    "    \n",
    "\n",
    "    #pull out text into lists\n",
    "    label_list = []\n",
    "    value_list = []\n",
    "    listing_dict={}\n",
    "    for i, tag in enumerate(listing_labels):\n",
    "        listing_dict[listing_labels[i].text] = listing_values[i].text\n",
    "        label_list.append(listing_labels[i].text)\n",
    "        value_list.append(listing_values[i].text)\n",
    "    #listing_dict = {listing_dict['Address']: listing_dict}\n",
    "\n",
    "    list_data = {'labels': label_list, 'values': value_list}\n",
    "    #print list_data\n",
    "    #print '---------'\n",
    "    #print listing_dict\n",
    "    listing_df = pd.DataFrame(data = list_data)\n",
    "    listing_df = listing_df.drop_duplicates()\n",
    "    #listing_df.index = listing_df['labels']\n",
    "    #listing_df.drop('labels')\n",
    "    listing_df.to_csv('{0}.csv'.format(os.path.splitext(url)[0]), index=True)\n",
    "    \n",
    "    js = json.dumps(listing_dict)\n",
    "    return listing_dict"
   ]
  },
  {
   "cell_type": "code",
   "execution_count": 37,
   "metadata": {},
   "outputs": [],
   "source": [
    "def merge_data3(dir):\n",
    "    \n",
    "    merged_dict = {}\n",
    "    for listing in os.listdir(dir):\n",
    "        \n",
    "        if listing.endswith('.html'):\n",
    "            print listing\n",
    "            listing_dict = scrape_listing(listing)\n",
    "            \n",
    "\n",
    "            if merged_dict==None:\n",
    "                print \"EMPTY\"\n",
    "                merged_dict = listing_dict\n",
    "                #merged_df.set_index('labels')\n",
    "            else:\n",
    "                merged_dict[listing_dict['Address']] = listing_dict\n",
    "    with open('merged_listings.json', 'w') as jsf:\n",
    "         json.dumps(merged_dict, jsf)"
   ]
  },
  {
   "cell_type": "code",
   "execution_count": 4,
   "metadata": {},
   "outputs": [],
   "source": [
    "def merge_data2(dir):\n",
    "    \n",
    "    merged_df = pd.DataFrame({'A' : []})\n",
    "    for listing in os.listdir(dir):\n",
    "        \n",
    "        if listing.endswith('.html'):\n",
    "            print listing\n",
    "            listing_df = scrape_listing(listing)\n",
    "            listing_df.set_index('labels', inplace=True)\n",
    "\n",
    "            if merged_df.empty:\n",
    "                print \"EMPTY\"\n",
    "                merged_df = listing_df \n",
    "                #merged_df.set_index('labels')\n",
    "            else:\n",
    "                merged_df = pd.concat([merged_df, listing_df], axis=1)\n",
    "    # latlong = pd.DataFrame({'Lat/Long':merged_df.loc['Address'].apply(get_latlong)})\n",
    "    # print latlong\n",
    "    # merged_df = merged_df.append(merged_df.loc['Address'].apply(get_latlong))\n",
    "    # merged_df = merged_df.append(latlong)\n",
    "    merged_df.to_csv('merged_df.csv')"
   ]
  },
  {
   "cell_type": "code",
   "execution_count": 31,
   "metadata": {},
   "outputs": [],
   "source": [
    "def main():\n",
    "    #listing_url = r\"archstreet.html\"\n",
    "    dir = 'C:\\Users\\Tom\\Desktop\\mls_scraper\\listings'\n",
    "    cwd = os.getcwd()\n",
    "    os.chdir(dir)\n",
    "    merge_data3(dir)\n",
    "    #latlong = get_latlong(\"466 Ontario Street, Albany, New York\")\n",
    "    #print latlong\n",
    "    os.chdir(cwd)"
   ]
  },
  {
   "cell_type": "code",
   "execution_count": 40,
   "metadata": {},
   "outputs": [
    {
     "name": "stdout",
     "output_type": "stream",
     "text": [
      "116Homestead.html\n"
     ]
    },
    {
     "ename": "KeyError",
     "evalue": "'Address'",
     "output_type": "error",
     "traceback": [
      "\u001b[1;31m---------------------------------------------------------------------------\u001b[0m",
      "\u001b[1;31mKeyError\u001b[0m                                  Traceback (most recent call last)",
      "\u001b[1;32m<ipython-input-40-58ca95c5b364>\u001b[0m in \u001b[0;36m<module>\u001b[1;34m()\u001b[0m\n\u001b[1;32m----> 1\u001b[1;33m \u001b[0mmain\u001b[0m\u001b[1;33m(\u001b[0m\u001b[1;33m)\u001b[0m\u001b[1;33m\u001b[0m\u001b[0m\n\u001b[0m",
      "\u001b[1;32m<ipython-input-31-ed0e1f4c580a>\u001b[0m in \u001b[0;36mmain\u001b[1;34m()\u001b[0m\n\u001b[0;32m      4\u001b[0m     \u001b[0mcwd\u001b[0m \u001b[1;33m=\u001b[0m \u001b[0mos\u001b[0m\u001b[1;33m.\u001b[0m\u001b[0mgetcwd\u001b[0m\u001b[1;33m(\u001b[0m\u001b[1;33m)\u001b[0m\u001b[1;33m\u001b[0m\u001b[0m\n\u001b[0;32m      5\u001b[0m     \u001b[0mos\u001b[0m\u001b[1;33m.\u001b[0m\u001b[0mchdir\u001b[0m\u001b[1;33m(\u001b[0m\u001b[0mdir\u001b[0m\u001b[1;33m)\u001b[0m\u001b[1;33m\u001b[0m\u001b[0m\n\u001b[1;32m----> 6\u001b[1;33m     \u001b[0mmerge_data3\u001b[0m\u001b[1;33m(\u001b[0m\u001b[0mdir\u001b[0m\u001b[1;33m)\u001b[0m\u001b[1;33m\u001b[0m\u001b[0m\n\u001b[0m\u001b[0;32m      7\u001b[0m     \u001b[1;31m#latlong = get_latlong(\"466 Ontario Street, Albany, New York\")\u001b[0m\u001b[1;33m\u001b[0m\u001b[1;33m\u001b[0m\u001b[0m\n\u001b[0;32m      8\u001b[0m     \u001b[1;31m#print latlong\u001b[0m\u001b[1;33m\u001b[0m\u001b[1;33m\u001b[0m\u001b[0m\n",
      "\u001b[1;32m<ipython-input-37-2dc4c28748fc>\u001b[0m in \u001b[0;36mmerge_data3\u001b[1;34m(dir)\u001b[0m\n\u001b[0;32m     14\u001b[0m                 \u001b[1;31m#merged_df.set_index('labels')\u001b[0m\u001b[1;33m\u001b[0m\u001b[1;33m\u001b[0m\u001b[0m\n\u001b[0;32m     15\u001b[0m             \u001b[1;32melse\u001b[0m\u001b[1;33m:\u001b[0m\u001b[1;33m\u001b[0m\u001b[0m\n\u001b[1;32m---> 16\u001b[1;33m                 \u001b[0mmerged_dict\u001b[0m\u001b[1;33m[\u001b[0m\u001b[0mlisting_dict\u001b[0m\u001b[1;33m[\u001b[0m\u001b[1;34m'Address'\u001b[0m\u001b[1;33m]\u001b[0m\u001b[1;33m]\u001b[0m \u001b[1;33m=\u001b[0m \u001b[0mlisting_dict\u001b[0m\u001b[1;33m\u001b[0m\u001b[0m\n\u001b[0m\u001b[0;32m     17\u001b[0m     \u001b[1;32mwith\u001b[0m \u001b[0mopen\u001b[0m\u001b[1;33m(\u001b[0m\u001b[1;34m'merged_listings.json'\u001b[0m\u001b[1;33m,\u001b[0m \u001b[1;34m'w'\u001b[0m\u001b[1;33m)\u001b[0m \u001b[1;32mas\u001b[0m \u001b[0mjsf\u001b[0m\u001b[1;33m:\u001b[0m\u001b[1;33m\u001b[0m\u001b[0m\n\u001b[0;32m     18\u001b[0m          \u001b[0mjson\u001b[0m\u001b[1;33m.\u001b[0m\u001b[0mdumps\u001b[0m\u001b[1;33m(\u001b[0m\u001b[0mmerged_dict\u001b[0m\u001b[1;33m,\u001b[0m \u001b[0mjsf\u001b[0m\u001b[1;33m)\u001b[0m\u001b[1;33m\u001b[0m\u001b[0m\n",
      "\u001b[1;31mKeyError\u001b[0m: 'Address'"
     ]
    }
   ],
   "source": [
    "main()"
   ]
  },
  {
   "cell_type": "code",
   "execution_count": 28,
   "metadata": {},
   "outputs": [
    {
     "data": {
      "text/plain": [
       "'{\"466 ONTARIO ST\": {\"Unit #2 Rent\": \"$800\", \"Unit2 Full Bths on1st Flr\": \"0\", \"SEWER\": \"Public\", \"ROOF\": \"Built-Up\", \"EXTERIOR\": \"Aluminum\", \"Directions 1\": \".1 mile north on Ontario St. from New Scotland Ave; house on right\", \"SEPARATE UTILITIES\": \"Electric, Gas, Heat\", \"Unit1 Bedrooms on 2nd Flr\": \"0\", \"Zip\": \"12208\", \"List Price\": \"$147,500\", \"UNIT #2 APPLIANCES\": \"Range w/Oven, Refrigerator\", \"School Taxes\": \"2,500\", \"CONDITION\": \"Good\", \"BASEMENT\": \"Full\", \"Age (NOT year built)\": \"145\", \"Unit2 Partial Bth 3rd Flr\": \"0\", \"Unit1 Bedrooms in Bsmt\": \"0\", \"UNIT #2 DINING ROOM TYPE\": \"None\", \"ATTIC\": \"Eaves\", \"Unit2 Bedrooms on 3rd Flr\": \"0\", \"UNIT #1 OCCUPIED\": \"Month-to-Month\", \"WATER\": \"Public\", \"Unit #1 Rent\": \"$725\", \"UNIT #1 APPLIANCES\": \"Range w/Oven, Refrigerator\", \"UNIT #2 OCCUPIED\": \"Month-to-Month\", \"Unit #1 Kitchen\": \"Working Only\", \"Total Bedrooms Unit 2\": \"2\", \"Unit1 Rent Description\": \"Actual\", \"Unit2 Full Bths on3rd Flr\": \"0\", \"Unit1 Full Bths on1st Flr\": \"1\", \"State\": \"NY\", \"Total Partial Bths Unit 1\": \"0\", \"Type\": \"2 Family\", \"Unit2 Bedrooms on 1st Flr\": \"0\", \"GARAGE DESCRIPTION\": \"Detached\", \"LOT DESCRIPTION\": \"Corner, Level\", \"Unit1 Partial Bth 3rd Flr\": \"0\", \"Unit1 Bedrooms on 3rd Flr\": \"0\", \"Unit1 Partial Bth in Bsmt\": \"0\", \"Unit1 Liv Rms on 1st Flr\": \"1\", \"Sale/Rent\": \"For Sale\", \"Unit1 Possession\": \"MTM long term tenant\", \"Unit2 Full Baths in Bsmt\": \"0\", \"Class\": \"TWO FAMILY\", \"School Taxes Description\": \"Estimated\", \"Unit1 Kitchens on 1st Flr\": \"1\", \"Total Partial Bths Unit 2\": \"0\", \"Unit1 Full Bths on2nd Flr\": \"0\", \"Unit1 Full Baths in Bsmt\": \"0\", \"Unit2 Partial Bth 1st Flr\": \"0\", \"PROPERTY DESCRIPTION\": \"Up-and-Down\", \"Unit2 Full Bths on2nd Flr\": \"1\", \"COOLING TYPE\": \"None\", \"Acres\": \"0.090\", \"Total Bedrooms Unit 1\": \"1\", \"Total Taxes\": \"4,000\", \"Unit2 Liv Rms on 2nd Flr\": \"1\", \"Status\": \"Pend (Under Cntr)\", \"City/Town (taxing entity)\": \"Albany\", \"Above Ground SQFT\": \"1200\", \"MLS #\": \"201709587\", \"Total Full Baths Unit 1\": \"1\", \"Total Full Baths Unit 2\": \"1\", \"School District Code\": \"Albany\", \"SHOWING INSTRUCTIONS\": \"Lockbox, Tenants, Prior Day Notice, See Remarks\", \"HEAT SYSTEM\": \"Hot Water, Radiator\", \"Unit2 Partial Bth 2nd Flr\": \"0\", \"City/Town (Mail Address)\": \"Albany\", \"Public Remarks\": \"Just Reduced! Charming two family on a corner lot; located in the Pine hills neighborhood. Excellent investment opportunity or owner occupy. Centrally located to hospitals, local businesses, the bus route and 3 car garage with off street parking make this home a must see.\", \"ACCESSIBILITY FEATURES\": \"Bus, Sidewalk, Garage\", \"Unit2 Partial Bths Bsmt\": \"0\", \"Unit1 Partial Bth 2nd Flr\": \"0\", \"County\": \"Albany\", \"HEAT FUEL\": \"Natural Gas\", \"SPECIAL MARKET CONDITIONS\": \"No Special Conditions\", \"Unit1 Bedrooms on 1st Flr\": \"1\", \"Address\": \"466 ONTARIO ST\", \"Unit2 Rent Description\": \"Actual\", \"UNIT #1 DINING ROOM TYPE\": \"None\", \"Unit2 Possession\": \"MTM\", \"Unit2 Kitchens on 2nd Flr\": \"1\", \"Unit #2 Kitchen\": \"Working Only\", \"Unit2 Bedrooms in Bsmt\": \"0\", \"Handicap Access\": \"No\", \"Unit2 Bedrooms on 2nd Flr\": \"2\", \"#Off Street Parking Spc\": \"6\", \"LAUNDRY\": \"Basement\", \"Locale\": \"Pine Hills\", \"Unit1 Partial Bth 1st Flr\": \"0\", \"Off Street Parking\": \"Yes\", \"Unit1 Full Bths on3rd Flr\": \"0\"}}'"
      ]
     },
     "execution_count": 28,
     "metadata": {},
     "output_type": "execute_result"
    }
   ],
   "source": [
    "listing = scrape_listing(r'listings/466Ontario.html')\n",
    "listing"
   ]
  },
  {
   "cell_type": "code",
   "execution_count": 14,
   "metadata": {},
   "outputs": [],
   "source": [
    "import json"
   ]
  },
  {
   "cell_type": "code",
   "execution_count": 25,
   "metadata": {},
   "outputs": [],
   "source": [
    "with open('json.txt','w') as jsf:\n",
    "    json.dump(listing, jsf)"
   ]
  },
  {
   "cell_type": "code",
   "execution_count": 24,
   "metadata": {},
   "outputs": [],
   "source": [
    "listing = {listing['Address']:listing}"
   ]
  },
  {
   "cell_type": "code",
   "execution_count": null,
   "metadata": {},
   "outputs": [],
   "source": []
  }
 ],
 "metadata": {
  "kernelspec": {
   "display_name": "Python 2",
   "language": "python",
   "name": "python2"
  },
  "language_info": {
   "codemirror_mode": {
    "name": "ipython",
    "version": 2
   },
   "file_extension": ".py",
   "mimetype": "text/x-python",
   "name": "python",
   "nbconvert_exporter": "python",
   "pygments_lexer": "ipython2",
   "version": "2.7.14"
  }
 },
 "nbformat": 4,
 "nbformat_minor": 2
}
