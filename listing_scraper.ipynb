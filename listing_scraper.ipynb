{
 "cells": [
  {
   "cell_type": "code",
   "execution_count": 7,
   "metadata": {},
   "outputs": [],
   "source": [
    "from bs4 import BeautifulSoup\n",
    "import re\n",
    "import urllib2\n",
    "import lxml\n",
    "import pandas as pd\n",
    "import os\n",
    "from mapstest import get_latlong\n",
    "import json\n"
   ]
  },
  {
   "cell_type": "code",
   "execution_count": 2,
   "metadata": {},
   "outputs": [],
   "source": [
    "def scrape_listing(url):\n",
    "\n",
    "#take url and spit out a df with labels and values from the listing\n",
    "    page = open(url)\n",
    "    soup = BeautifulSoup(page.read(), \"html.parser\")\n",
    "    \n",
    "    #print soup.prettify()[0:1000]\n",
    "    #find tags\n",
    "    listing_labels = soup.findAll('strong', \n",
    "        { \"class\" : \"col-lg-6 col-sm-6 col-md-6 col-xs-6\"})\n",
    "    listing_values = soup.findAll('span', \n",
    "        { \"class\" : \"col-lg-6 col-sm-6 col-md-6 col-xs-6\"})\n",
    "    \n",
    "\n",
    "    #pull out text into lists\n",
    "    label_list = []\n",
    "    value_list = []\n",
    "    listing_dict={}\n",
    "    for i, tag in enumerate(listing_labels):\n",
    "        listing_dict[listing_labels[i].text] = listing_values[i].text\n",
    "        label_list.append(listing_labels[i].text)\n",
    "        value_list.append(listing_values[i].text)\n",
    "    #listing_dict = {listing_dict['Address']: listing_dict}\n",
    "\n",
    "    list_data = {'labels': label_list, 'values': value_list}\n",
    "    #print list_data\n",
    "    #print '---------'\n",
    "    #print listing_dict\n",
    "    listing_df = pd.DataFrame(data = list_data)\n",
    "    listing_df = listing_df.drop_duplicates()\n",
    "    #listing_df.index = listing_df['labels']\n",
    "    #listing_df.drop('labels')\n",
    "    listing_df.to_csv('{0}.csv'.format(os.path.splitext(url)[0]), index=True)\n",
    "    \n",
    "    js = json.dumps(listing_dict)\n",
    "    return listing_dict"
   ]
  },
  {
   "cell_type": "code",
   "execution_count": 8,
   "metadata": {},
   "outputs": [],
   "source": [
    "def merge_data3(dir):\n",
    "    \n",
    "    merged_dict = {}\n",
    "    for listing in os.listdir(dir):\n",
    "        \n",
    "        if listing.endswith('.html'):\n",
    "            print listing\n",
    "            listing_dict = scrape_listing(listing)\n",
    "            \n",
    "\n",
    "            if merged_dict==None:\n",
    "                print \"EMPTY\"\n",
    "                merged_dict = listing_dict\n",
    "                #merged_df.set_index('labels')\n",
    "            else:\n",
    "                merged_dict[listing_dict['Address']] = listing_dict\n",
    "    #print merged_dict\n",
    "    with open('merged_listings.json', 'w') as jsf:\n",
    "         json.dump(merged_dict, jsf)\n",
    "    print merged_dict.keys()"
   ]
  },
  {
   "cell_type": "code",
   "execution_count": 4,
   "metadata": {},
   "outputs": [],
   "source": [
    "def merge_data2(dir):\n",
    "    \n",
    "    merged_df = pd.DataFrame({'A' : []})\n",
    "    for listing in os.listdir(dir):\n",
    "        \n",
    "        if listing.endswith('.html'):\n",
    "            print listing\n",
    "            listing_df = scrape_listing(listing)\n",
    "            listing_df.set_index('labels', inplace=True)\n",
    "\n",
    "            if merged_df.empty:\n",
    "                print \"EMPTY\"\n",
    "                merged_df = listing_df \n",
    "                #merged_df.set_index('labels')\n",
    "            else:\n",
    "                merged_df = pd.concat([merged_df, listing_df], axis=1)\n",
    "    # latlong = pd.DataFrame({'Lat/Long':merged_df.loc['Address'].apply(get_latlong)})\n",
    "    # print latlong\n",
    "    # merged_df = merged_df.append(merged_df.loc['Address'].apply(get_latlong))\n",
    "    # merged_df = merged_df.append(latlong)\n",
    "    merged_df.to_csv('merged_df.csv')"
   ]
  },
  {
   "cell_type": "code",
   "execution_count": 5,
   "metadata": {},
   "outputs": [],
   "source": [
    "def main():\n",
    "    #listing_url = r\"archstreet.html\"\n",
    "    dir = 'C:\\Users\\Tom\\Desktop\\mls_scraper\\listings'\n",
    "    cwd = os.getcwd()\n",
    "    os.chdir(dir)\n",
    "    merge_data3(dir)\n",
    "    #latlong = get_latlong(\"466 Ontario Street, Albany, New York\")\n",
    "    #print latlong\n",
    "    os.chdir(cwd)"
   ]
  },
  {
   "cell_type": "code",
   "execution_count": null,
   "metadata": {},
   "outputs": [],
   "source": []
  },
  {
   "cell_type": "code",
   "execution_count": 9,
   "metadata": {},
   "outputs": [
    {
     "name": "stdout",
     "output_type": "stream",
     "text": [
      "116Homestead.html\n",
      "131Jefferson.html\n",
      "198JAY.html\n",
      "211Quail.html\n",
      "2Roosevelt.html\n",
      "35Glenwood.html\n",
      "35SMAIN.html\n",
      "37Sycamore.html\n",
      "384Morris.html\n",
      "420Second.html\n",
      "455Myrtle.html\n",
      "466Ontario.html\n",
      "[u'2 ROOSEVELT ST', u'37 SYCAMORE ST', u'116 HOMESTEAD AV', u'384 MORRIS ST', u'211 QUAIL ST', u'466 ONTARIO ST', u'455 MYRTLE AV', u'131 JEFFERSON ST', u'198 JAY ST', u'35 S MAIN AV', u'35 GLENWOOD ST', u'430 SECOND AV']\n"
     ]
    }
   ],
   "source": [
    "main()"
   ]
  },
  {
   "cell_type": "code",
   "execution_count": null,
   "metadata": {},
   "outputs": [],
   "source": [
    "merged_dict.keys"
   ]
  },
  {
   "cell_type": "code",
   "execution_count": null,
   "metadata": {},
   "outputs": [],
   "source": [
    "listing = scrape_listing(r'listings/466Ontario.html')\n",
    "listing"
   ]
  },
  {
   "cell_type": "code",
   "execution_count": null,
   "metadata": {},
   "outputs": [],
   "source": [
    "import json"
   ]
  },
  {
   "cell_type": "code",
   "execution_count": null,
   "metadata": {},
   "outputs": [],
   "source": [
    "with open('json.txt','w') as jsf:\n",
    "    json.dump(listing, jsf)"
   ]
  },
  {
   "cell_type": "code",
   "execution_count": null,
   "metadata": {},
   "outputs": [],
   "source": [
    "listing = {listing['Address']:listing}"
   ]
  },
  {
   "cell_type": "code",
   "execution_count": null,
   "metadata": {},
   "outputs": [],
   "source": []
  }
 ],
 "metadata": {
  "kernelspec": {
   "display_name": "Python 2",
   "language": "python",
   "name": "python2"
  },
  "language_info": {
   "codemirror_mode": {
    "name": "ipython",
    "version": 2
   },
   "file_extension": ".py",
   "mimetype": "text/x-python",
   "name": "python",
   "nbconvert_exporter": "python",
   "pygments_lexer": "ipython2",
   "version": "2.7.14"
  }
 },
 "nbformat": 4,
 "nbformat_minor": 2
}
